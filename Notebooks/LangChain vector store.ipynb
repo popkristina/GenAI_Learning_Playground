{
 "cells": [
  {
   "cell_type": "markdown",
   "id": "0ed83995-c35d-4d64-96ac-57e9fe276bd8",
   "metadata": {},
   "source": [
    "<p style=\"text-align:center\">\n",
    "    <a href=\"https://skills.network\" target=\"_blank\">\n",
    "    <img src=\"https://cf-courses-data.s3.us.cloud-object-storage.appdomain.cloud/assets/logos/SN_web_lightmode.png\" width=\"200\" alt=\"Skills Network Logo\"  />\n",
    "    </a>\n",
    "</p>\n"
   ]
  },
  {
   "cell_type": "markdown",
   "id": "d8ff1b27-0005-4d7e-9c8e-207004e9693a",
   "metadata": {},
   "source": [
    "# **Create and Configure a Vector Database to Store Document Embeddings**\n"
   ]
  },
  {
   "cell_type": "markdown",
   "id": "93ede879-7b30-4e46-96d3-ee9ca687b6ef",
   "metadata": {},
   "source": [
    "Estimated time needed: **30** minutes\n"
   ]
  },
  {
   "cell_type": "markdown",
   "id": "bd417867-b877-4359-b9b0-d887fabfce5b",
   "metadata": {},
   "source": [
    "## Overview\n"
   ]
  },
  {
   "cell_type": "markdown",
   "id": "3f486bf4-4a23-4aac-be1f-5a8152c3b2b1",
   "metadata": {},
   "source": [
    "Imagine you are working in a customer support center that receives a high volume of inquiries and tickets every day. Your task is to create a system that can quickly provide support agents with the most relevant information to resolve customer issues. Traditional methods of searching through FAQs or support documents can be slow and inefficient, leading to delayed responses and dissatisfied customers.\n",
    "\n",
    "To address this challenge, you will use embedding models to convert support documents and past inquiry responses into numerical vectors that capture their semantic content. These vectors will be stored in a vector database, enabling fast and accurate similarity searches. For example, when a support agent receives a new inquiry about a product issue, the system can instantly retrieve similar past inquiries and their resolutions, helping the agent to provide a quicker and more accurate response.\n"
   ]
  },
  {
   "cell_type": "markdown",
   "id": "295f533d-f9ae-4fca-adf3-d65793ad0c35",
   "metadata": {},
   "source": [
    "<img src=\"https://cf-courses-data.s3.us.cloud-object-storage.appdomain.cloud/veZYoygp9GqZrIw5f6SD0g/vector%20db.png\" width=\"50%\" alt=\"vector db\"/>\n"
   ]
  },
  {
   "cell_type": "markdown",
   "id": "904b253e-0831-4a4b-91ca-7ec9275ed2ac",
   "metadata": {},
   "source": [
    "In this lab, you will learn how to use vector databases to store embeddings generated from textual data using LangChain. The focus will be on two popular vector databases: Chroma DB and FAISS (Facebook AI Similarity Search). You will also learn how to perform similarity searches in these databases based on a query, enabling efficient retrieval of relevant information. By the end of this lab, you will be able to effectively use vector databases to store and query embeddings, enhancing your data analysis and retrieval capabilities.\n"
   ]
  },
  {
   "cell_type": "markdown",
   "id": "29ef49b8-5f5b-415a-9059-11350abd13e9",
   "metadata": {},
   "source": [
    "## __Table of Contents__\n",
    "\n",
    "<ol>\n",
    "    <li><a href=\"#Objectives\">Objectives</a></li>\n",
    "    <li>\n",
    "        <a href=\"#Setup\">Setup</a>\n",
    "        <ol>\n",
    "            <li><a href=\"#Installing-required-libraries\">Installing required libraries</a></li>\n",
    "            <li><a href=\"#Load-text\">Load text</a></li>\n",
    "            <li><a href=\"#Split-data\">Split data</a></li>\n",
    "            <li><a href=\"#Embedding model\">Embedding model</a></li>\n",
    "        </ol>\n",
    "    </li>\n",
    "    <li>\n",
    "        <a href=\"#Vector-store\">Vector store</a>\n",
    "        <ol>\n",
    "            <li><a href=\"#Chroma-DB\">Chroma DB</a></li>\n",
    "            <li><a href=\"#FIASS-DB\">FIASS DB</a></li>\n",
    "            <li><a href=\"#Managing-vector-store:-adding,-updating,-and-deleting-entries\">Managing vector store: adding, updating, and deleting entries</a></li>\n",
    "        </ol>\n",
    "    </li>\n",
    "</ol>\n",
    "\n",
    "<a href=\"#Exercises\">Exercises</a>\n",
    "<ol>\n",
    "    <li><a href=\"#Exercise-1---Use-another-query-to-conduct-similarity-search.\">Exercise 1. Use another query to conduct similarity search.</a></li>\n",
    "</ol>\n"
   ]
  },
  {
   "cell_type": "markdown",
   "id": "53429db7-7210-45d4-86d3-ef68fcc6da1b",
   "metadata": {},
   "source": [
    "## Objectives\n",
    "\n",
    "After completing this lab you will be able to:\n",
    "\n",
    "- Prepare and preprocess documents for embeddings.\n",
    "- Generate embeddings using watsonx.ai's embedding model.\n",
    "- Store these embeddings in Chroma DB and FAISS.\n",
    "- Perform similarity searches to retrieve relevant documents based on new inquiries.\n"
   ]
  },
  {
   "cell_type": "markdown",
   "id": "ea734cd6-41aa-4e2f-b3ed-43b7bb6122ac",
   "metadata": {},
   "source": [
    "----\n"
   ]
  },
  {
   "cell_type": "markdown",
   "id": "69fc2ce7-d234-4f4b-9082-8ec2aec82b41",
   "metadata": {},
   "source": [
    "## Setup\n"
   ]
  },
  {
   "cell_type": "markdown",
   "id": "ec84633a-96a9-45dd-8215-7cea8a11b0ba",
   "metadata": {},
   "source": [
    "For this lab, you will use the following libraries:\n",
    "\n",
    "* [`ibm-watson-ai`](https://ibm.github.io/watsonx-ai-python-sdk/) for using LLMs from IBM's watsonx.ai.\n",
    "* [`langchain`, `langchain-ibm`, `langchain-community`](https://www.langchain.com/) for using relevant features from Langchain.\n",
    "* [`chromadb`](https://www.trychroma.com/) is a open-source vector database used to store embeddings.\n",
    "* [`faiss-cpu`](https://pypi.org/project/faiss-cpu/) is used to support the using of FAISS vector database.\n"
   ]
  },
  {
   "cell_type": "markdown",
   "id": "33a274ff-4520-4a12-b447-9f4fbb438979",
   "metadata": {},
   "source": [
    "### Installing required libraries\n",
    "\n",
    "The following required libraries are __not__ preinstalled in the Skills Network Labs environment. __You must run the following cell__ to install them:\n",
    "\n",
    "**Note:** The version is being pinned here to specify the version. It's recommended that you do this as well. Even if the library is updated in the future, the installed library could still support this lab work.\n",
    "\n",
    "This might take approximately 1-2 minutes. \n",
    "\n",
    "As `%%capture` is used to capture the installation, you won't see the output process. After the installation is completed, you will see a number beside the cell.\n"
   ]
  },
  {
   "cell_type": "code",
   "execution_count": 1,
   "id": "459c5383-b497-4814-b18f-93e66674a9d8",
   "metadata": {},
   "outputs": [],
   "source": [
    "%%capture\n",
    "!pip install --user\"ibm-watsonx-ai==1.0.4\"\n",
    "!pip install  --user \"langchain==0.2.1\" \n",
    "!pip install  --user \"langchain-ibm==0.1.7\"\n",
    "!pip install  --user \"langchain-community==0.2.1\"\n",
    "!pip install --user \"chromadb==0.4.24\"\n",
    "!pip install  --user \"faiss-cpu==1.8.0\""
   ]
  },
  {
   "cell_type": "markdown",
   "id": "b9c17bdf-b7c0-42bc-b3de-b0973bc09f59",
   "metadata": {},
   "source": [
    "After you install the libraries, restart your kernel. You can do that by clicking the **Restart the kernel** icon.\n",
    "\n",
    "<img src=\"https://cf-courses-data.s3.us.cloud-object-storage.appdomain.cloud/build-a-hotdog-not-hotdog-classifier-guided-project/images/Restarting_the_Kernel.png\" width=\"50%\" alt=\"Restart kernel\">\n"
   ]
  },
  {
   "cell_type": "markdown",
   "id": "4fd031ce-0ef1-472b-b5a7-320ca5566840",
   "metadata": {},
   "source": [
    "-----\n"
   ]
  },
  {
   "cell_type": "markdown",
   "id": "6c366912-c18a-4e42-add8-9e284d5b6999",
   "metadata": {},
   "source": [
    "The following steps are prerequisite tasks for conducting this project's topic - vector store. These steps include:\n",
    "\n",
    "- Loading the source document.\n",
    "- Splitting the document into chunks.\n",
    "- Building an embedding model.\n",
    "  \n",
    "The details of these steps have been introduced in previous lessons.\n"
   ]
  },
  {
   "cell_type": "markdown",
   "id": "f1ddeef2-6384-47ad-abef-7b6922169650",
   "metadata": {},
   "source": [
    "### Load text\n"
   ]
  },
  {
   "cell_type": "markdown",
   "id": "64db959b-98aa-44bb-a128-cc84a3d26db7",
   "metadata": {},
   "source": [
    "A text file has been prepared as the source document for the downstream vector database task.\n",
    "\n",
    "Now, let's download and load it using LangChain's `TextLoader`.\n"
   ]
  },
  {
   "cell_type": "code",
   "execution_count": 1,
   "id": "803b824d-1f92-444e-b410-a986e25b0e15",
   "metadata": {},
   "outputs": [
    {
     "name": "stderr",
     "output_type": "stream",
     "text": [
      "'wget' is not recognized as an internal or external command,\n",
      "operable program or batch file.\n"
     ]
    }
   ],
   "source": [
    "!wget \"https://cf-courses-data.s3.us.cloud-object-storage.appdomain.cloud/BYlUHaillwM8EUItaIytHQ/companypolicies.txt\""
   ]
  },
  {
   "cell_type": "code",
   "execution_count": 2,
   "id": "29f609f8-6058-4fad-9185-ac7dd8d58f38",
   "metadata": {},
   "outputs": [],
   "source": [
    "from langchain_community.document_loaders import TextLoader"
   ]
  },
  {
   "cell_type": "code",
   "execution_count": 3,
   "id": "f1c28ecd-9477-431d-be81-f73c68ce09b8",
   "metadata": {},
   "outputs": [],
   "source": [
    "loader = TextLoader(\"companypolicies.txt\")\n",
    "data = loader.load()"
   ]
  },
  {
   "cell_type": "markdown",
   "id": "ac9dda86-2c0f-486f-b902-38d58ac8911c",
   "metadata": {},
   "source": [
    "You can have a look at this document.\n"
   ]
  },
  {
   "cell_type": "code",
   "execution_count": 4,
   "id": "53d3438d-87f1-4c50-8ac8-00b52ca7aca9",
   "metadata": {},
   "outputs": [
    {
     "data": {
      "text/plain": [
       "[Document(metadata={'source': 'companypolicies.txt'}, page_content=\"1.\\tCode of Conduct\\n\\nOur Code of Conduct outlines the fundamental principles and ethical standards that guide every member of our organization. We are committed to maintaining a workplace that is built on integrity, respect, and accountability.\\nIntegrity: We hold ourselves to the highest ethical standards. This means acting honestly and transparently in all our interactions, whether with colleagues, clients, or the broader community. We respect and protect sensitive information, and we avoid conflicts of interest.\\nRespect: We embrace diversity and value each individual's contributions. Discrimination, harassment, or any form of disrespectful behavior is unacceptable. We create an inclusive environment where differences are celebrated and everyone is treated with dignity and courtesy.\\nAccountability: We take responsibility for our actions and decisions. We follow all relevant laws and regulations, and we strive to continuously improve our practices. We report any potential violations of this code and support the investigation of such matters.\\nSafety: We prioritize the safety of our employees, clients, and the communities we serve. We maintain a culture of safety, including reporting any unsafe conditions or practices.\\nEnvironmental Responsibility: We are committed to minimizing our environmental footprint and promoting sustainable practices.\\nOur Code of Conduct is not just a set of rules; it is the foundation of our organization's culture. We expect all employees to uphold these principles and serve as role models for others, ensuring we maintain our reputation for ethical conduct, integrity, and social responsibility.\\n\\n2.\\tRecruitment Policy\\n\\nOur Recruitment Policy reflects our commitment to attracting, selecting, and onboarding the most qualified and diverse candidates to join our organization. We believe that the success of our company relies on the talents, skills, and dedication of our employees.\\nEqual Opportunity: We are an equal opportunity employer and do not discriminate on the basis of race, color, religion, sex, sexual orientation, gender identity, national origin, age, disability, or any other protected status. We actively promote diversity and inclusion.\\nTransparency: We maintain transparency in our recruitment processes. All job vacancies are advertised internally and externally when appropriate. Job descriptions and requirements are clear and accurately represent the role.\\nSelection Criteria: Our selection process is based on the qualifications, experience, and skills necessary for the position. Interviews and assessments are conducted objectively, and decisions are made without bias.\\nData Privacy: We are committed to protecting the privacy of candidates' personal information and adhere to all relevant data protection laws and regulations.\\nFeedback: Candidates will receive timely and constructive feedback on their application and interview performance.\\nOnboarding: New employees receive comprehensive onboarding to help them integrate into the organization effectively. This includes information on our culture, policies, and expectations.\\nEmployee Referrals: We encourage and appreciate employee referrals as they contribute to building a strong and engaged team.\\nOur Recruitment Policy is a foundation for creating a diverse, inclusive, and talented workforce. It ensures that we attract and hire the best candidates who align with our company values and contribute to our continued success. We continuously review and update this policy to reflect evolving best practices in recruitment.\\n\\n3.\\tInternet and Email Policy\\n\\nOur Internet and Email Policy is established to guide the responsible and secure use of these essential tools within our organization. We recognize their significance in daily business operations and the importance of adhering to principles that maintain security, productivity, and legal compliance.\\nAcceptable Use: Company-provided internet and email services are primarily meant for job-related tasks. Limited personal use is allowed during non-work hours, provided it doesn't interfere with work responsibilities.\\nSecurity: Safeguard your login credentials, avoiding the sharing of passwords. Exercise caution with email attachments and links from unknown sources. Promptly report any unusual online activity or potential security breaches.\\nConfidentiality: Reserve email for the transmission of confidential information, trade secrets, and sensitive customer data only when encryption is applied. Exercise discretion when discussing company matters on public forums or social media.\\nHarassment and Inappropriate Content: Internet and email usage must not involve harassment, discrimination, or the distribution of offensive or inappropriate content. Show respect and sensitivity to others in all online communications.\\nCompliance: Ensure compliance with all relevant laws and regulations regarding internet and email usage, including those related to copyright and data protection.\\nMonitoring: The company retains the right to monitor internet and email usage for security and compliance purposes.\\nConsequences: Policy violations may lead to disciplinary measures, including potential termination.\\nOur Internet and Email Policy aims to promote safe, responsible usage of digital communication tools that align with our values and legal obligations. Each employee is expected to understand and follow this policy. Regular reviews ensure its alignment with evolving technology and security standards.\\n\\n4.\\tMobile Phone Policy\\n\\nThe Mobile Phone Policy sets forth the standards and expectations governing the appropriate and responsible usage of mobile devices in the organization. The purpose of this policy is to ensure that employees utilize mobile phones in a manner consistent with company values and legal compliance.\\nAcceptable Use: Mobile devices are primarily intended for work-related tasks. Limited personal usage is allowed, provided it does not disrupt work obligations.\\nSecurity: Safeguard your mobile device and access credentials. Exercise caution when downloading apps or clicking links from unfamiliar sources. Promptly report security concerns or suspicious activities related to your mobile device.\\nConfidentiality: Avoid transmitting sensitive company information via unsecured messaging apps or emails. Be discreet when discussing company matters in public spaces.\\nCost Management: Keep personal phone usage separate from company accounts and reimburse the company for any personal charges on company-issued phones.\\nCompliance: Adhere to all pertinent laws and regulations concerning mobile phone usage, including those related to data protection and privacy.\\nLost or Stolen Devices: Immediately report any lost or stolen mobile devices to the IT department or your supervisor.\\nConsequences: Non-compliance with this policy may lead to disciplinary actions, including the potential loss of mobile phone privileges.\\nThe Mobile Phone Policy is aimed at promoting the responsible and secure use of mobile devices in line with legal and ethical standards. Every employee is expected to comprehend and abide by these guidelines. Regular reviews of the policy ensure its ongoing alignment with evolving technology and security best practices.\\n\\n5.\\tSmoking Policy\\n\\nPolicy Purpose: The Smoking Policy has been established to provide clear guidance and expectations concerning smoking on company premises. This policy is in place to ensure a safe and healthy environment for all employees, visitors, and the general public.\\nDesignated Smoking Areas: Smoking is only permitted in designated smoking areas, as marked by appropriate signage. These areas have been chosen to minimize exposure to secondhand smoke and to maintain the overall cleanliness of the premises.\\nSmoking Restrictions: Smoking inside company buildings, offices, meeting rooms, and other enclosed spaces is strictly prohibited. This includes electronic cigarettes and vaping devices.\\nCompliance with Applicable Laws: All employees and visitors must adhere to relevant federal, state, and local smoking laws and regulations.\\nDisposal of Smoking Materials: Properly dispose of cigarette butts and related materials in designated receptacles. Littering on company premises is prohibited.\\nNo Smoking in Company Vehicles: Smoking is not permitted in company vehicles, whether they are owned or leased, to maintain the condition and cleanliness of these vehicles.\\nEnforcement and Consequences: All employees and visitors are expected to adhere to this policy. Non-compliance may lead to appropriate disciplinary action, which could include fines, or, in the case of employees, possible termination of employment.\\nReview of Policy: This policy will be reviewed periodically to ensure its alignment with evolving legal requirements and best practices for maintaining a healthy and safe workplace.\\nWe appreciate your cooperation in maintaining a smoke-free and safe environment for all.\\n\\n6.\\tDrug and Alcohol Policy\\n\\nPolicy Objective: The Drug and Alcohol Policy is established to establish clear expectations and guidelines for the responsible use of drugs and alcohol within the organization. This policy aims to maintain a safe, healthy, and productive workplace.\\nProhibited Substances: The use, possession, distribution, or sale of illegal drugs or unauthorized controlled substances is strictly prohibited on company premises or during work-related activities. This includes the misuse of prescription drugs.\\nAlcohol Consumption: The consumption of alcoholic beverages is not allowed during work hours, on company property, or while performing company-related duties. Exception may be made for company-sanctioned events.\\nImpairment: Employees are expected to perform their job duties without impairment from drugs or alcohol. The use of substances that could impair job performance or pose a safety risk is prohibited.\\nTesting and Searches: The organization reserves the right to conduct drug and alcohol testing as per applicable laws and regulations. Employees may be subject to testing in cases of reasonable suspicion, post-accident, or as part of routine workplace safety measures.\\nReporting: Employees should report any concerns related to drug or alcohol misuse by themselves or their colleagues, as well as safety concerns arising from such misuse.\\nTreatment and Assistance: Employees with substance abuse issues are encouraged to seek help. The organization is committed to providing support, resources, and information to assist those seeking treatment.\\nConsequences: Violation of this policy may result in disciplinary actions, up to and including termination of employment. Legal action may also be pursued when necessary.\\nPolicy Review: This policy will undergo periodic review to ensure its continued relevance and compliance with evolving legal requirements and best practices for a safe and productive work environment.\\nYour adherence to this policy is appreciated as it helps to maintain a safe and drug-free workplace for all.\\n\\n7.\\tHealth and Safety Policy\\n\\nOur commitment to health and safety is paramount. We prioritize the well-being of our employees, customers, and the public. We diligently comply with all relevant health and safety laws and regulations. Our objective is to maintain a workplace free from hazards, preventing accidents, injuries, and illnesses. Every individual within our organization is responsible for upholding these standards. We regularly assess and improve our safety measures, provide adequate training, and encourage open communication regarding safety concerns. Through collective dedication, we aim to ensure a safe, healthy, and secure environment for all. Your cooperation is essential in achieving this common goal.\\n\\n8.\\tAnti-discrimination and Harassment Policy\\n\\nThe Anti-Discrimination and Harassment Policy is a testament to the commitment of this organization in fostering a workplace that is free from discrimination, harassment, and any form of unlawful bias. This policy applies to every individual within the organization, including employees, contractors, visitors, and clients.\\nNon-Discrimination: This organization strictly prohibits discrimination based on race, color, religion, gender, national origin, age, disability, sexual orientation, or any other legally protected characteristic in all aspects of employment, including recruitment, hiring, compensation, benefits, promotions, and terminations.\\nHarassment: Harassment in any form, whether based on the aforementioned characteristics or any other protected status, is unacceptable. This encompasses unwelcome advances, offensive jokes, slurs, and other verbal or physical conduct that creates a hostile or intimidating work environment.\\nReporting: Individuals who experience or witness any form of discrimination or harassment are encouraged to promptly report the incident to their supervisor, manager, or the designated HR representative. The organization is committed to a timely and confidential investigation of such complaints.\\nConsequences: Violation of this policy may result in disciplinary action, including termination of employment. The organization is committed to taking appropriate action against any individual found to be in violation of this policy.\\nReview and Update: This policy is subject to regular review and update to remain aligned with evolving legal requirements and best practices in preventing discrimination and harassment. This organization considers it a collective responsibility to ensure a workplace free from discrimination and harassment, and it is essential that every individual within the organization plays their part in upholding these principles.\\n\\n9.\\tDiscipline and Termination Policy\\n\\nThe Discipline and Termination Policy underscores the organization's commitment to maintaining a productive, ethical, and respectful work environment. This policy applies to all personnel, including employees, contractors, and temporary staff.\\nPerformance and Conduct Expectations: Employees are expected to meet performance standards and adhere to conduct guidelines. The organization will provide clear expectations, feedback, and opportunities for improvement when performance or conduct issues arise.\\nDisciplinary Actions: When necessary, disciplinary actions will be taken, which may include verbal warnings, written warnings, suspension, or other appropriate measures. Disciplinary actions are designed to address issues constructively and maintain performance standards.\\nTermination: In situations where an employee's performance or conduct issues persist, the organization may resort to termination. Termination may also occur for reasons such as redundancy, violation of policies, or restructuring.\\nTermination Procedure: The organization will follow appropriate procedures, ensuring fairness and adherence to legal requirements during the termination process. Employees may be eligible for notice periods, severance pay, or other benefits as per employment agreements and applicable laws.\\nExit Process: The organization will conduct an exit process to ensure a smooth transition for departing employees, including the return of company property, final pay, and cancellation of access and benefits.\\nThis policy serves as a framework for handling discipline and termination. The organization recognizes the importance of fairness and consistency in these processes, and decisions will be made after careful consideration. Every employee is expected to understand and adhere to this policy, contributing to a respectful and productive workplace. Regular reviews will ensure its alignment with evolving legal requirements and best practices.\")]"
      ]
     },
     "execution_count": 4,
     "metadata": {},
     "output_type": "execute_result"
    }
   ],
   "source": [
    "data"
   ]
  },
  {
   "cell_type": "markdown",
   "id": "00a19a3f-c5dd-4c5d-80e6-6b4a53fc8302",
   "metadata": {},
   "source": [
    "### Split data\n"
   ]
  },
  {
   "cell_type": "markdown",
   "id": "9076b523-191b-48b6-9f7a-511315b6c1ed",
   "metadata": {},
   "source": [
    "The next step is to split the document using LangChain's text splitter. Here, you will use the `RecursiveCharacterTextSplitter, which is well-suited for this generic text. The following parameters have been set:\n",
    "\n",
    "- `chunk_size = 100`\n",
    "- `chunk_overlap = 20`\n",
    "- `length_function = len`\n"
   ]
  },
  {
   "cell_type": "code",
   "execution_count": 5,
   "id": "93b0e970-c72d-4f77-942e-63443de822f6",
   "metadata": {},
   "outputs": [],
   "source": [
    "from langchain.text_splitter import RecursiveCharacterTextSplitter"
   ]
  },
  {
   "cell_type": "code",
   "execution_count": 6,
   "id": "a9e9dcce-6e7c-4789-a203-bbc7cf94ea87",
   "metadata": {},
   "outputs": [],
   "source": [
    "text_splitter = RecursiveCharacterTextSplitter(\n",
    "    chunk_size=100,\n",
    "    chunk_overlap=20,\n",
    "    length_function=len,\n",
    ")"
   ]
  },
  {
   "cell_type": "code",
   "execution_count": 7,
   "id": "03249315-6ef6-4c7c-8c03-6958e5bcc645",
   "metadata": {},
   "outputs": [],
   "source": [
    "chunks = text_splitter.split_documents(data)"
   ]
  },
  {
   "cell_type": "markdown",
   "id": "897d990f-e0ed-481b-81d1-9a20ea33fbb8",
   "metadata": {},
   "source": [
    "Let's take a look at how many chunks you get.\n"
   ]
  },
  {
   "cell_type": "code",
   "execution_count": 8,
   "id": "eea4673d-e12b-4d57-a3b1-0fab782e9a20",
   "metadata": {},
   "outputs": [
    {
     "data": {
      "text/plain": [
       "215"
      ]
     },
     "execution_count": 8,
     "metadata": {},
     "output_type": "execute_result"
    }
   ],
   "source": [
    "len(chunks)"
   ]
  },
  {
   "cell_type": "markdown",
   "id": "47eb9f45-ffa6-4cbb-870d-586d6abb9a33",
   "metadata": {},
   "source": [
    "So, in total, you get 215 chunks.\n"
   ]
  },
  {
   "cell_type": "markdown",
   "id": "cb238e65-e588-40fa-a13f-aab5506844b4",
   "metadata": {},
   "source": [
    "### Embedding model\n"
   ]
  },
  {
   "cell_type": "markdown",
   "id": "8d9bc25e-ef62-42e7-9a42-a4d6a9e553e0",
   "metadata": {},
   "source": [
    "The following code demonstrates how to build an embedding model using the `watsonx.ai` package.\n",
    "\n",
    "For this project, the `ibm/slate-125m-english-rtrvr` embedding model will be used.\n"
   ]
  },
  {
   "cell_type": "code",
   "execution_count": 9,
   "id": "92503654-367b-4c72-8dd6-78262c05a49f",
   "metadata": {},
   "outputs": [
    {
     "ename": "ModuleNotFoundError",
     "evalue": "No module named 'ibm_watsonx_ai'",
     "output_type": "error",
     "traceback": [
      "\u001b[1;31m---------------------------------------------------------------------------\u001b[0m",
      "\u001b[1;31mModuleNotFoundError\u001b[0m                       Traceback (most recent call last)",
      "Input \u001b[1;32mIn [9]\u001b[0m, in \u001b[0;36m<cell line: 1>\u001b[1;34m()\u001b[0m\n\u001b[1;32m----> 1\u001b[0m \u001b[38;5;28;01mfrom\u001b[39;00m\u001b[38;5;250m \u001b[39m\u001b[38;5;21;01mibm_watsonx_ai\u001b[39;00m\u001b[38;5;21;01m.\u001b[39;00m\u001b[38;5;21;01mmetanames\u001b[39;00m\u001b[38;5;250m \u001b[39m\u001b[38;5;28;01mimport\u001b[39;00m EmbedTextParamsMetaNames\n\u001b[0;32m      2\u001b[0m \u001b[38;5;28;01mfrom\u001b[39;00m\u001b[38;5;250m \u001b[39m\u001b[38;5;21;01mlangchain_ibm\u001b[39;00m\u001b[38;5;250m \u001b[39m\u001b[38;5;28;01mimport\u001b[39;00m WatsonxEmbeddings\n",
      "\u001b[1;31mModuleNotFoundError\u001b[0m: No module named 'ibm_watsonx_ai'"
     ]
    }
   ],
   "source": [
    "from ibm_watsonx_ai.metanames import EmbedTextParamsMetaNames\n",
    "from langchain_ibm import WatsonxEmbeddings"
   ]
  },
  {
   "cell_type": "code",
   "execution_count": null,
   "id": "152323f9-8a34-473a-aaba-5022f7bae613",
   "metadata": {},
   "outputs": [],
   "source": [
    "embed_params = {\n",
    "    EmbedTextParamsMetaNames.TRUNCATE_INPUT_TOKENS: 3,\n",
    "    EmbedTextParamsMetaNames.RETURN_OPTIONS: {\"input_text\": True},\n",
    "}\n",
    "\n",
    "watsonx_embedding = WatsonxEmbeddings(\n",
    "    model_id=\"ibm/slate-125m-english-rtrvr\",\n",
    "    url=\"https://us-south.ml.cloud.ibm.com\",\n",
    "    project_id=\"skills-network\",\n",
    "    params=embed_params,\n",
    ")"
   ]
  },
  {
   "cell_type": "markdown",
   "id": "bbcb8a14-f47a-408e-897f-690ac1aff0eb",
   "metadata": {},
   "source": [
    "The embedding model is formed into the `watsonx_embedding` object.\n"
   ]
  },
  {
   "cell_type": "markdown",
   "id": "d070cf31-a874-437a-a24b-fb2b73f7df48",
   "metadata": {},
   "source": [
    "## Vector store\n"
   ]
  },
  {
   "cell_type": "markdown",
   "id": "6f8a4514-0b2b-4176-a7e0-b85ee7ae0b08",
   "metadata": {},
   "source": [
    "In this section, you will be guided on how to use two commonly used vector databases: Chroma DB and FAISS DB. You will also see how to perform a similarity search based on an input query using these databases.\n"
   ]
  },
  {
   "cell_type": "markdown",
   "id": "481d21fa-6649-4b31-964c-25c2feedff99",
   "metadata": {},
   "source": [
    "### Chroma DB\n"
   ]
  },
  {
   "cell_type": "markdown",
   "id": "49725411-24cb-4bea-bfc7-203496f823c6",
   "metadata": {},
   "source": [
    "#### Build the database\n"
   ]
  },
  {
   "cell_type": "markdown",
   "id": "1dca56cc-236f-4884-b387-9230768bc5e3",
   "metadata": {},
   "source": [
    "First, you need to import `Chroma` from Langchain vector stores.\n"
   ]
  },
  {
   "cell_type": "code",
   "execution_count": null,
   "id": "250829ac-e8a5-4a5f-91ea-f2046600da6c",
   "metadata": {},
   "outputs": [],
   "source": [
    "from langchain.vectorstores import Chroma"
   ]
  },
  {
   "cell_type": "markdown",
   "id": "f994b353-4e3e-4858-ae73-ecf76b55bb0a",
   "metadata": {},
   "source": [
    "Next, you need to create an ID list that will be used to assign each chunk a unique identifier, allowing you to track them later in the vector database. The length of this list should match the length of the chunks.\n",
    "\n",
    "Note: The IDs should be in string format.\n"
   ]
  },
  {
   "cell_type": "code",
   "execution_count": null,
   "id": "39a9e5ff-0824-4eff-a967-da5760f99643",
   "metadata": {},
   "outputs": [],
   "source": [
    "ids = [str(i) for i in range(0, len(chunks))]"
   ]
  },
  {
   "cell_type": "markdown",
   "id": "c1d4b399-6848-4aa9-a61d-db7f5dc0c71f",
   "metadata": {},
   "source": [
    "The next step is to use the embedding model to create embeddings for each chunk and then store them in the Chroma database.\n",
    "\n",
    "The following code demonstrates how to do this.\n"
   ]
  },
  {
   "cell_type": "code",
   "execution_count": null,
   "id": "476eba86-ffb2-408d-bf5d-cfde1af56028",
   "metadata": {},
   "outputs": [],
   "source": [
    "vectordb = Chroma.from_documents(chunks, watsonx_embedding, ids=ids)"
   ]
  },
  {
   "cell_type": "markdown",
   "id": "dcb45613-d976-4f88-9d97-b6d479adfe68",
   "metadata": {},
   "source": [
    "Now that you have built the vector store named `vectordb`, you can use the method `.collection.get()` to print some of the chunks indexed by their IDs.\n",
    "\n",
    "Note: Although the chunks are stored in the database in embedding format, when you retrieve and print them by their IDs, the database will return the chunk text information instead of the embedding vectors.\n"
   ]
  },
  {
   "cell_type": "code",
   "execution_count": null,
   "id": "895e9365-5322-435e-9fd2-27c95eaed92d",
   "metadata": {},
   "outputs": [],
   "source": [
    "for i in range(3):\n",
    "    print(vectordb._collection.get(ids=str(i)))"
   ]
  },
  {
   "cell_type": "markdown",
   "id": "4ee3294b-0e70-46be-bd4b-dbe0c8890a56",
   "metadata": {},
   "source": [
    "You can also use the method `._collection.count()` to see the length of the vector database, which should be the same as the length of chunks.\n"
   ]
  },
  {
   "cell_type": "code",
   "execution_count": null,
   "id": "475cc6ce-8515-4672-b777-a1c2437ac978",
   "metadata": {},
   "outputs": [],
   "source": [
    "vectordb._collection.count()"
   ]
  },
  {
   "cell_type": "markdown",
   "id": "270bdee9-6387-4efb-895d-075098fd1e64",
   "metadata": {},
   "source": [
    "#### Similarity search\n"
   ]
  },
  {
   "cell_type": "markdown",
   "id": "81368674-b3ce-4d1d-98ee-840ddba805ae",
   "metadata": {},
   "source": [
    "Similarity search in a vector database involves finding items that are most similar to a given query item based on their vector representations.\n",
    "\n",
    "In this process, data objects are converted into vectors (which you've already done), and the search algorithm identifies and retrieves those with the closest vector distances to the query, enabling efficient and accurate identification of similar items in large datasets.\n"
   ]
  },
  {
   "cell_type": "markdown",
   "id": "1a234543-3658-49b9-a31d-60e14119c22a",
   "metadata": {},
   "source": [
    "LangChain supports similarity search in vector stores using the method `.similarity_search()`.\n",
    "\n",
    "The following is an example of how to perform a similarity search based on the query \"Email policy.\"\n",
    "\n",
    "By default, it will return the top four closest vectors to the query.\n"
   ]
  },
  {
   "cell_type": "code",
   "execution_count": null,
   "id": "4d9ef1c7-26ac-40d2-b9af-3491d4713fc3",
   "metadata": {},
   "outputs": [],
   "source": [
    "query = \"Email policy\"\n",
    "docs = vectordb.similarity_search(query)\n",
    "docs"
   ]
  },
  {
   "cell_type": "markdown",
   "id": "b2a037db-62d4-48ee-a593-d956decd0a84",
   "metadata": {},
   "source": [
    "You can specify `k = 1` to just retrieve the top one result.\n"
   ]
  },
  {
   "cell_type": "code",
   "execution_count": null,
   "id": "358e01e4-de66-4364-a332-40795d784767",
   "metadata": {},
   "outputs": [],
   "source": [
    "vectordb.similarity_search(query, k = 1)"
   ]
  },
  {
   "cell_type": "markdown",
   "id": "6d522649-0d06-45de-a564-d9eaef0b6fde",
   "metadata": {},
   "source": [
    "### FIASS DB\n"
   ]
  },
  {
   "cell_type": "markdown",
   "id": "b5450c0a-9cf6-48dd-b4c9-6a3c807cacc0",
   "metadata": {},
   "source": [
    "FIASS is another vector database that is supported by LangChain.\n",
    "\n",
    "The process of building and using FAISS is similar to Chroma DB.\n",
    "\n",
    "However, there may be differences in the retrieval results between FAISS and Chroma DB.\n"
   ]
  },
  {
   "cell_type": "markdown",
   "id": "4d60ee43-a488-434c-9224-3b01995605a8",
   "metadata": {},
   "source": [
    "#### Build the database\n"
   ]
  },
  {
   "cell_type": "markdown",
   "id": "df5091e8-4067-4f81-bb20-d35a09243913",
   "metadata": {},
   "source": [
    "Build the database and store the embeddings to the database here.\n"
   ]
  },
  {
   "cell_type": "code",
   "execution_count": null,
   "id": "6487fd0d-337b-44fc-ae90-3521183f4bb8",
   "metadata": {},
   "outputs": [],
   "source": [
    "from langchain_community.vectorstores import FAISS"
   ]
  },
  {
   "cell_type": "code",
   "execution_count": null,
   "id": "44a8f718-39d1-487e-a7b1-8eb4aaff8425",
   "metadata": {},
   "outputs": [],
   "source": [
    "faissdb = FAISS.from_documents(chunks, watsonx_embedding, ids=ids)"
   ]
  },
  {
   "cell_type": "markdown",
   "id": "bc4281a1-d46a-477b-868b-b0fd0a42c7ec",
   "metadata": {},
   "source": [
    "Next, print the first three information pieces in the database based on IDs.\n"
   ]
  },
  {
   "cell_type": "code",
   "execution_count": null,
   "id": "146f2ab5-6ff3-47db-8d83-d00929f9fed4",
   "metadata": {},
   "outputs": [],
   "source": [
    "for i in range(3):\n",
    "    print(faissdb.docstore.search(str(i)))"
   ]
  },
  {
   "cell_type": "markdown",
   "id": "69564d1b-6344-4b01-bad0-ccf349fde381",
   "metadata": {},
   "source": [
    "#### Similarity search\n"
   ]
  },
  {
   "cell_type": "markdown",
   "id": "63bf764f-69bd-4e1e-a6e2-2cece4951cd4",
   "metadata": {},
   "source": [
    "Let's do a similarity search again using FIASS DB on the same query.\n"
   ]
  },
  {
   "cell_type": "code",
   "execution_count": null,
   "id": "405703c8-41ed-448d-b56d-676f9be03264",
   "metadata": {},
   "outputs": [],
   "source": [
    "query = \"Email policy\"\n",
    "docs = faissdb.similarity_search(query)\n",
    "docs"
   ]
  },
  {
   "cell_type": "markdown",
   "id": "e35a453d-7ae6-4755-acc8-7171cd06d471",
   "metadata": {},
   "source": [
    "The retrieve results based on the similarity search seem to be the same as with the Chroma DB.\n",
    "\n",
    "You can try with other queries or documents to see if they follow the same situation.\n"
   ]
  },
  {
   "cell_type": "markdown",
   "id": "785159f1-9bb8-4a91-a76d-20bf168cb2f7",
   "metadata": {},
   "source": [
    "### Managing vector store: Adding, updating, and deleting entries\n"
   ]
  },
  {
   "cell_type": "markdown",
   "id": "19446899-d6e8-457c-b538-94dabb84041e",
   "metadata": {},
   "source": [
    "There might be situations where new documents come into your RAG application that you want to add to the current vector database, or you might need to delete some existing documents from the database. Additionally, there may be updates to some of the documents in the database that require updating.\n",
    "\n",
    "The following sections will guide you on how to perform these tasks. You will use the Chroma DB as an example.\n"
   ]
  },
  {
   "cell_type": "markdown",
   "id": "9a71722f-5d20-4629-b410-d78250608257",
   "metadata": {},
   "source": [
    "#### Add\n"
   ]
  },
  {
   "cell_type": "markdown",
   "id": "0c363e12-79e9-466e-a361-c7967c63c6e6",
   "metadata": {},
   "source": [
    "Imagine you have a new piece of text information that you want to add to the vector database. First, this information should be formatted into a document object.\n"
   ]
  },
  {
   "cell_type": "code",
   "execution_count": null,
   "id": "91be078e-64e5-437c-8e11-b4afa0de6142",
   "metadata": {},
   "outputs": [],
   "source": [
    "text = \"Instructlab is the best open source tool for fine-tuning a LLM.\""
   ]
  },
  {
   "cell_type": "code",
   "execution_count": null,
   "id": "8b8e5cf6-f7bb-4290-9a9f-5ebe550faab6",
   "metadata": {},
   "outputs": [],
   "source": [
    "from langchain_core.documents import Document"
   ]
  },
  {
   "cell_type": "markdown",
   "id": "01e55ce5-a1a3-4699-b7a1-a15c5bb5a074",
   "metadata": {},
   "source": [
    "Form the text into a `Document` object named `new_chunk`.\n"
   ]
  },
  {
   "cell_type": "code",
   "execution_count": null,
   "id": "c913b458-f27e-45b6-8077-f76d3a7caa1f",
   "metadata": {},
   "outputs": [],
   "source": [
    "new_chunk =  Document(\n",
    "    page_content=text,\n",
    "    metadata={\n",
    "        \"source\": \"ibm.com\",\n",
    "        \"page\": 1\n",
    "    }\n",
    ")"
   ]
  },
  {
   "cell_type": "markdown",
   "id": "5f78ba89-dbdf-40d5-9096-321cbd437e97",
   "metadata": {},
   "source": [
    "Then, the new chunk should be put into a list as the vector database only accepts documents in a list.\n"
   ]
  },
  {
   "cell_type": "code",
   "execution_count": null,
   "id": "f47ca996-f598-468f-b022-5f211f86582f",
   "metadata": {},
   "outputs": [],
   "source": [
    "new_chunks = [new_chunk]"
   ]
  },
  {
   "cell_type": "markdown",
   "id": "04580f15-b60b-4927-98af-194d0dfc0b0d",
   "metadata": {},
   "source": [
    "Before you add the document to the vector database, since there are 215 chunks with IDs from 0 to 214, if you print ID 215, the document should show no values. Let's validate it.\n"
   ]
  },
  {
   "cell_type": "code",
   "execution_count": null,
   "id": "6af4786a-20b7-4dd9-a49c-f24184e134ce",
   "metadata": {},
   "outputs": [],
   "source": [
    "print(vectordb._collection.get(ids=['215']))"
   ]
  },
  {
   "cell_type": "markdown",
   "id": "ec2f8f00-f255-48ec-99bc-865a4c474494",
   "metadata": {},
   "source": [
    "Next, you can use the method `.add_documents()` to add this `new_chunk`. In this method, you should assign an ID to the document. Since there are already IDs from 0 to 214, you can assign ID 215 to this document. The ID should be in string format and placed in a list.\n"
   ]
  },
  {
   "cell_type": "code",
   "execution_count": null,
   "id": "9ca87641-ffd6-46e3-9ce8-f3739bf6a207",
   "metadata": {},
   "outputs": [],
   "source": [
    "vectordb.add_documents(\n",
    "    new_chunks,\n",
    "    ids=[\"215\"]\n",
    ")"
   ]
  },
  {
   "cell_type": "markdown",
   "id": "dda0ee32-9875-4341-af67-862b0faedc48",
   "metadata": {},
   "source": [
    "Now you can count the length of the vector database again to see if it has increased by one.\n"
   ]
  },
  {
   "cell_type": "code",
   "execution_count": null,
   "id": "a3db300f-353b-4e8b-89f7-99972d6e7090",
   "metadata": {},
   "outputs": [],
   "source": [
    "vectordb._collection.count()"
   ]
  },
  {
   "cell_type": "markdown",
   "id": "ee33982a-963b-4a4d-a4b7-61781026b260",
   "metadata": {},
   "source": [
    "You can then print this newly added document from the database by its ID.\n"
   ]
  },
  {
   "cell_type": "code",
   "execution_count": null,
   "id": "39bc0fb9-2241-4071-8309-c3215ae3b516",
   "metadata": {},
   "outputs": [],
   "source": [
    "print(vectordb._collection.get(ids=['215']))"
   ]
  },
  {
   "cell_type": "markdown",
   "id": "ffcce84c-21ba-4071-bf95-e5fd581f2afc",
   "metadata": {},
   "source": [
    "#### Update\n"
   ]
  },
  {
   "cell_type": "markdown",
   "id": "529df9f9-ed4b-48e5-a0b4-ba8c626180ca",
   "metadata": {},
   "source": [
    "Imagine you want to update the content of a document that is already stored in the database. The following code demonstrates how to do this.\n"
   ]
  },
  {
   "cell_type": "markdown",
   "id": "383acaca-e36a-41dc-88ba-6cb4bc3b06d5",
   "metadata": {},
   "source": [
    "Still, you need to form the updated text into a `Document` object.\n"
   ]
  },
  {
   "cell_type": "code",
   "execution_count": null,
   "id": "861e635d-04ce-4952-b5d4-90297b3d6f93",
   "metadata": {},
   "outputs": [],
   "source": [
    "update_chunk =  Document(\n",
    "    page_content=\"Instructlab is a perfect open source tool for fine-tuning a LLM.\",\n",
    "    metadata={\n",
    "        \"source\": \"ibm.com\",\n",
    "        \"page\": 1\n",
    "    }\n",
    ")"
   ]
  },
  {
   "cell_type": "markdown",
   "id": "cf921ae2-c863-4fe0-aef2-88f58a95951c",
   "metadata": {},
   "source": [
    "Then, you can use the method `.update_document()` to update the specific stored information indexing by its ID.\n"
   ]
  },
  {
   "cell_type": "code",
   "execution_count": null,
   "id": "43a4e2da-47c7-4bf7-be21-1f98f8c1399b",
   "metadata": {},
   "outputs": [],
   "source": [
    "vectordb.update_document(\n",
    "    '215',\n",
    "    update_chunk,\n",
    ")"
   ]
  },
  {
   "cell_type": "code",
   "execution_count": null,
   "id": "ca62e639-13ff-4c04-8eb1-431833df2770",
   "metadata": {},
   "outputs": [],
   "source": [
    "print(vectordb._collection.get(ids=['215']))"
   ]
  },
  {
   "cell_type": "markdown",
   "id": "0d54a461-993a-4169-9441-19173ce65626",
   "metadata": {},
   "source": [
    "As you can see, the document information has been updated.\n"
   ]
  },
  {
   "cell_type": "markdown",
   "id": "bbad37c7-46e1-4c0c-9ebf-c639a8236a29",
   "metadata": {},
   "source": [
    "#### Delete\n"
   ]
  },
  {
   "cell_type": "markdown",
   "id": "36605981-efb5-4b44-adf0-65051ab845ac",
   "metadata": {},
   "source": [
    "If you want to delete documents from the vector database, you can use the method `_collection.delete()` and specify the document ID to delete it.\n"
   ]
  },
  {
   "cell_type": "code",
   "execution_count": null,
   "id": "138db3db-f8ba-421b-ba05-13c70221f299",
   "metadata": {},
   "outputs": [],
   "source": [
    "vectordb._collection.delete(ids=['215'])"
   ]
  },
  {
   "cell_type": "code",
   "execution_count": null,
   "id": "2292a3b9-959b-480c-95fa-434a649d60c5",
   "metadata": {},
   "outputs": [],
   "source": [
    "print(vectordb._collection.get(ids=['215']))"
   ]
  },
  {
   "cell_type": "markdown",
   "id": "214d3f80-ecdc-40b7-bb86-a060b2cf3b67",
   "metadata": {},
   "source": [
    "As you can see, now that document is empty.\n"
   ]
  },
  {
   "cell_type": "markdown",
   "id": "f1b6b32a-c206-482c-9433-4002b59d8e5a",
   "metadata": {},
   "source": [
    "# Exercises\n"
   ]
  },
  {
   "cell_type": "markdown",
   "id": "7a2dfb4f-b5b6-4e06-a886-0b37b0f361ff",
   "metadata": {},
   "source": [
    "### Exercise 1 - Use another query to conduct similarity search.\n",
    "\n",
    "Can you use another query to conduct the similarity search?\n"
   ]
  },
  {
   "cell_type": "code",
   "execution_count": null,
   "id": "7848909b-6b74-416b-b372-f3c0222d087f",
   "metadata": {},
   "outputs": [],
   "source": [
    "# Your code here"
   ]
  },
  {
   "cell_type": "markdown",
   "id": "e0403a7b-4040-44a8-b136-ef50fed6e4c0",
   "metadata": {},
   "source": [
    "<details>\n",
    "    <summary>Click here for solution</summary>\n",
    "\n",
    "```python\n",
    "query = \"Smoking policy\"\n",
    "docs = vectordb.similarity_search(query)\n",
    "docs\n",
    "```\n",
    "\n",
    "</details>\n"
   ]
  },
  {
   "cell_type": "markdown",
   "id": "31da3550-ef23-463e-99d2-c3d4772c9c83",
   "metadata": {},
   "source": [
    "## Authors\n"
   ]
  },
  {
   "cell_type": "markdown",
   "id": "a943633b-d7ba-4c08-b035-3672c5f6be69",
   "metadata": {},
   "source": [
    "[Kang Wang](https://author.skills.network/instructors/kang_wang)\n",
    "\n",
    "Kang Wang is a Data Scientist in IBM. He is also a PhD Candidate in the University of Waterloo.\n"
   ]
  },
  {
   "cell_type": "markdown",
   "id": "1a883ff6-9308-45bb-ba45-edab92a53aa9",
   "metadata": {},
   "source": [
    "### Other Contributors\n"
   ]
  },
  {
   "cell_type": "markdown",
   "id": "4e7808a5-2d31-478f-a515-2b438387d4af",
   "metadata": {},
   "source": [
    "[Joseph Santarcangelo](https://author.skills.network/instructors/joseph_santarcangelo)\n",
    "\n",
    "Joseph has a Ph.D. in Electrical Engineering, his research focused on using machine learning, signal processing, and computer vision to determine how videos impact human cognition. Joseph has been working for IBM since he completed his PhD.\n"
   ]
  },
  {
   "cell_type": "markdown",
   "id": "664d09ca-2b0f-4516-bf72-f0235ef5ba8b",
   "metadata": {},
   "source": [
    "```{## Change Log}\n",
    "```\n"
   ]
  },
  {
   "cell_type": "markdown",
   "id": "c5c567ff-41c8-4997-851a-9d9e7cf8ad1f",
   "metadata": {},
   "source": [
    "```{|Date (YYYY-MM-DD)|Version|Changed By|Change Description||-|-|-|-||2024-07-24|0.1|Kang Wang|Create the lab|}\n",
    "```\n",
    "\n"
   ]
  },
  {
   "cell_type": "markdown",
   "id": "0522f239-8568-4b58-b655-c7c82cefbe9b",
   "metadata": {},
   "source": [
    "Copyright © IBM Corporation. All rights reserved.\n"
   ]
  }
 ],
 "metadata": {
  "kernelspec": {
   "display_name": "Python 3 (ipykernel)",
   "language": "python",
   "name": "python3"
  },
  "language_info": {
   "codemirror_mode": {
    "name": "ipython",
    "version": 3
   },
   "file_extension": ".py",
   "mimetype": "text/x-python",
   "name": "python",
   "nbconvert_exporter": "python",
   "pygments_lexer": "ipython3",
   "version": "3.9.12"
  },
  "prev_pub_hash": "6fda369b5a7cc6dc192cb9e100ce249a7aa42b806e29c8bd6f0a7d28a58a3dd7"
 },
 "nbformat": 4,
 "nbformat_minor": 4
}
